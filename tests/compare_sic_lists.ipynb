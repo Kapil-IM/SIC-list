{
 "cells": [
  {
   "cell_type": "markdown",
   "metadata": {},
   "source": [
    "# Compare sic codes and descriptions from various sources\n",
    "SIC codes and descriptions are available from a variety of sources. In this document, I compare lists of four-digit SIC codes from three different sources:\n",
    "\n",
    "1. [OSHA website](https://www.osha.gov/pls/imis/sic_manual.html)\n",
    "1. [SEC website](https://www.sec.gov/info/edgar/siccodes.htm)\n",
    "1. [Scientific Telephone Samples website](http://www.stssamples.com/sic-code.asp)"
   ]
  },
  {
   "cell_type": "markdown",
   "metadata": {},
   "source": [
    "### Key findings:\n",
    "* The SEC provides a different set of four-digit SIC codes:\n",
    "    * It provides fewer overall codes (444 codes, compared to OSHA's 1005)\n",
    "    * Some of the SIC codes it provides cannot be found in OSHA list - these are likely various aggregations of underlying four-digit SIC codes\n",
    "* The reference list of SIC codes shares all codes in common with OSHA, though some descriptions differ sightly"
   ]
  },
  {
   "cell_type": "markdown",
   "metadata": {},
   "source": [
    "## Setup"
   ]
  },
  {
   "cell_type": "code",
   "execution_count": 2,
   "metadata": {
    "collapsed": false
   },
   "outputs": [
    {
     "name": "stdout",
     "output_type": "stream",
     "text": [
      "[nltk_data] Downloading package punkt to /Users/Ryan/nltk_data...\n",
      "[nltk_data]   Package punkt is already up-to-date!\n",
      "[nltk_data] Downloading package averaged_perceptron_tagger to\n",
      "[nltk_data]     /Users/Ryan/nltk_data...\n",
      "[nltk_data]   Package averaged_perceptron_tagger is already up-to-\n",
      "[nltk_data]       date!\n"
     ]
    },
    {
     "data": {
      "text/plain": [
       "True"
      ]
     },
     "execution_count": 2,
     "metadata": {},
     "output_type": "execute_result"
    }
   ],
   "source": [
    "import sys\n",
    "import os\n",
    "sys.path.insert(0, os.path.abspath(os.path.join('../scrape_sic')))\n",
    "\n",
    "import pickle\n",
    "import pandas as pd\n",
    "\n",
    "import scrape_sic_osha as scrape_osha\n",
    "import scrape_sic_sec as scrape_sec\n",
    "\n",
    "import nltk\n",
    "from __future__ import division\n",
    "\n",
    "nltk.download('punkt')\n",
    "nltk.download('averaged_perceptron_tagger')"
   ]
  },
  {
   "cell_type": "markdown",
   "metadata": {},
   "source": [
    "##  Compare OSHA to SEC"
   ]
  },
  {
   "cell_type": "markdown",
   "metadata": {},
   "source": [
    "### Clean and merge data"
   ]
  },
  {
   "cell_type": "code",
   "execution_count": 3,
   "metadata": {
    "collapsed": false
   },
   "outputs": [
    {
     "data": {
      "text/plain": [
       "1005"
      ]
     },
     "execution_count": 3,
     "metadata": {},
     "output_type": "execute_result"
    }
   ],
   "source": [
    "# Read OSHA data\n",
    "osha_fname = 'osha_combined.csv'\n",
    "try:\n",
    "    osha = pd.read_csv(osha_fname)\n",
    "except IOError:\n",
    "    scrape_osha.get_sic_all()\n",
    "    osha = pd.read_csv(osha_fname)\n",
    "len(osha)"
   ]
  },
  {
   "cell_type": "code",
   "execution_count": 4,
   "metadata": {
    "collapsed": false
   },
   "outputs": [
    {
     "data": {
      "text/plain": [
       "444"
      ]
     },
     "execution_count": 4,
     "metadata": {},
     "output_type": "execute_result"
    }
   ],
   "source": [
    "# Read SEC data\n",
    "sec_fname = 'sec_combined.csv'\n",
    "try:\n",
    "    sec = pd.read_csv(sec_fname)\n",
    "except IOError:\n",
    "    scrape_sec.save_sic_sec()\n",
    "    sec = pd.read_csv(sec_fname)\n",
    "len(sec)"
   ]
  },
  {
   "cell_type": "code",
   "execution_count": 5,
   "metadata": {
    "collapsed": false
   },
   "outputs": [
    {
     "data": {
      "text/plain": [
       "272"
      ]
     },
     "execution_count": 5,
     "metadata": {},
     "output_type": "execute_result"
    }
   ],
   "source": [
    "# Merge OSHA and SEC data\n",
    "inner = osha.merge(sec, how='inner', on='SIC4_cd')\n",
    "len(inner)"
   ]
  },
  {
   "cell_type": "markdown",
   "metadata": {},
   "source": [
    "### Compare descriptions for each four-digit SIC code in common"
   ]
  },
  {
   "cell_type": "code",
   "execution_count": 6,
   "metadata": {
    "collapsed": false
   },
   "outputs": [
    {
     "data": {
      "text/plain": [
       "272"
      ]
     },
     "execution_count": 6,
     "metadata": {},
     "output_type": "execute_result"
    }
   ],
   "source": [
    "osha_desc = list(inner.SIC4_desc.str.lower().str.strip())\n",
    "len(osha_desc)"
   ]
  },
  {
   "cell_type": "code",
   "execution_count": 7,
   "metadata": {
    "collapsed": false
   },
   "outputs": [
    {
     "data": {
      "text/plain": [
       "272"
      ]
     },
     "execution_count": 7,
     "metadata": {},
     "output_type": "execute_result"
    }
   ],
   "source": [
    "sec_desc = list(inner.industry_title.str.lower().str.strip())\n",
    "len(sec_desc)"
   ]
  },
  {
   "cell_type": "code",
   "execution_count": 8,
   "metadata": {
    "collapsed": false
   },
   "outputs": [],
   "source": [
    "match = []\n",
    "for i in range(0, len(inner)):\n",
    "    \n",
    "    # Identify direct matches\n",
    "    match_ind = sec_desc[i] == osha_desc[i]\n",
    "    if not(match_ind):\n",
    "        \n",
    "        # Where not a direct match count the number of indirect matches\n",
    "        tokens_taged = nltk.pos_tag(nltk.word_tokenize(osha_desc[i]))\n",
    "        osha_words = [word[0] for word in tokens_taged]\n",
    "        sec_words = [word[0] for word in nltk.pos_tag(nltk.word_tokenize(sec_desc[i]))]\n",
    "        \n",
    "        word_matches = [word[0] in sec_words for word in tokens_taged if word[1] != 'CC']\n",
    "        match_rate = sum(word_matches)/len(word_matches)\n",
    "        if match_rate > 0.3:\n",
    "            match_ind = True\n",
    "    match.append(match_ind)"
   ]
  },
  {
   "cell_type": "markdown",
   "metadata": {},
   "source": [
    "### Summary\n",
    "Nearly all of the shared four-digit SIC codes from the OSHA and SEC lists shared a similar description, on the basis of a direct match or an indirect (30% or more of words in common, excluding coordinating-conjunctions) match. Of mismatches, most can be attributed to punctuation, grammar or syntax (i.e., as opposed to reference to an entirely different industry)."
   ]
  },
  {
   "cell_type": "code",
   "execution_count": 22,
   "metadata": {
    "collapsed": false
   },
   "outputs": [
    {
     "data": {
      "text/plain": [
       "0.9926470588235294"
      ]
     },
     "execution_count": 22,
     "metadata": {},
     "output_type": "execute_result"
    }
   ],
   "source": [
    "# Identify match rate\n",
    "sum(match)/len(inner)"
   ]
  },
  {
   "cell_type": "code",
   "execution_count": 9,
   "metadata": {
    "collapsed": false
   },
   "outputs": [
    {
     "data": {
      "text/html": [
       "<div>\n",
       "<table border=\"1\" class=\"dataframe\">\n",
       "  <thead>\n",
       "    <tr style=\"text-align: right;\">\n",
       "      <th></th>\n",
       "      <th>SIC4_cd</th>\n",
       "      <th>SIC4_desc</th>\n",
       "      <th>ind_cd</th>\n",
       "      <th>ind_desc</th>\n",
       "      <th>maj_cd</th>\n",
       "      <th>maj_desc</th>\n",
       "      <th>div_cd</th>\n",
       "      <th>div_desc</th>\n",
       "      <th>AD_office</th>\n",
       "      <th>industry_title</th>\n",
       "    </tr>\n",
       "  </thead>\n",
       "  <tbody>\n",
       "    <tr>\n",
       "      <th>94</th>\n",
       "      <td>3585</td>\n",
       "      <td>Air-Conditioning and Warm Air Heating Equipmen...</td>\n",
       "      <td>358</td>\n",
       "      <td>Refrigeration And Service Industry Machinery</td>\n",
       "      <td>35</td>\n",
       "      <td>Industrial And Commercial Machinery And Comput...</td>\n",
       "      <td>D</td>\n",
       "      <td>Manufacturing</td>\n",
       "      <td>6</td>\n",
       "      <td>AIR-COND &amp; WARM AIR HEATG EQUIP &amp; COMM &amp; INDL ...</td>\n",
       "    </tr>\n",
       "    <tr>\n",
       "      <th>176</th>\n",
       "      <td>5072</td>\n",
       "      <td>Hardware</td>\n",
       "      <td>507</td>\n",
       "      <td>Hardware, And Plumbing And Heating Equipment</td>\n",
       "      <td>50</td>\n",
       "      <td>Wholesale Trade-durable Goods</td>\n",
       "      <td>F</td>\n",
       "      <td>Wholesale Trade</td>\n",
       "      <td>6</td>\n",
       "      <td>WHOLESALE-HARDWARE</td>\n",
       "    </tr>\n",
       "  </tbody>\n",
       "</table>\n",
       "</div>"
      ],
      "text/plain": [
       "     SIC4_cd                                          SIC4_desc  ind_cd  \\\n",
       "94      3585  Air-Conditioning and Warm Air Heating Equipmen...     358   \n",
       "176     5072                                           Hardware     507   \n",
       "\n",
       "                                         ind_desc  maj_cd  \\\n",
       "94   Refrigeration And Service Industry Machinery      35   \n",
       "176  Hardware, And Plumbing And Heating Equipment      50   \n",
       "\n",
       "                                              maj_desc div_cd  \\\n",
       "94   Industrial And Commercial Machinery And Comput...      D   \n",
       "176                      Wholesale Trade-durable Goods      F   \n",
       "\n",
       "            div_desc AD_office  \\\n",
       "94     Manufacturing         6   \n",
       "176  Wholesale Trade         6   \n",
       "\n",
       "                                        industry_title  \n",
       "94   AIR-COND & WARM AIR HEATG EQUIP & COMM & INDL ...  \n",
       "176                                 WHOLESALE-HARDWARE  "
      ]
     },
     "execution_count": 9,
     "metadata": {},
     "output_type": "execute_result"
    }
   ],
   "source": [
    "# Identify specific mismatches\n",
    "inner[[not(m) for m in match]]"
   ]
  },
  {
   "cell_type": "markdown",
   "metadata": {},
   "source": [
    "## Compare OSHA to benchmark"
   ]
  },
  {
   "cell_type": "markdown",
   "metadata": {},
   "source": [
    "### Clean and merge data"
   ]
  },
  {
   "cell_type": "code",
   "execution_count": 26,
   "metadata": {
    "collapsed": false
   },
   "outputs": [
    {
     "data": {
      "text/plain": [
       "1004"
      ]
     },
     "execution_count": 26,
     "metadata": {},
     "output_type": "execute_result"
    }
   ],
   "source": [
    "benchmark =  pd.read_csv('tests/ref_list.csv')\n",
    "len(benchmark)"
   ]
  },
  {
   "cell_type": "code",
   "execution_count": 37,
   "metadata": {
    "collapsed": false
   },
   "outputs": [
    {
     "data": {
      "text/html": [
       "<div>\n",
       "<table border=\"1\" class=\"dataframe\">\n",
       "  <thead>\n",
       "    <tr style=\"text-align: right;\">\n",
       "      <th></th>\n",
       "      <th>SIC4_cd</th>\n",
       "      <th>SIC4_desciption</th>\n",
       "    </tr>\n",
       "  </thead>\n",
       "  <tbody>\n",
       "    <tr>\n",
       "      <th>0</th>\n",
       "      <td>111</td>\n",
       "      <td>WHEAT</td>\n",
       "    </tr>\n",
       "    <tr>\n",
       "      <th>1</th>\n",
       "      <td>112</td>\n",
       "      <td>RICE</td>\n",
       "    </tr>\n",
       "    <tr>\n",
       "      <th>2</th>\n",
       "      <td>115</td>\n",
       "      <td>CORN</td>\n",
       "    </tr>\n",
       "    <tr>\n",
       "      <th>3</th>\n",
       "      <td>116</td>\n",
       "      <td>SOYBEANS</td>\n",
       "    </tr>\n",
       "    <tr>\n",
       "      <th>4</th>\n",
       "      <td>119</td>\n",
       "      <td>CASH GRAINS, NEC</td>\n",
       "    </tr>\n",
       "  </tbody>\n",
       "</table>\n",
       "</div>"
      ],
      "text/plain": [
       "   SIC4_cd   SIC4_desciption\n",
       "0      111             WHEAT\n",
       "1      112              RICE\n",
       "2      115              CORN\n",
       "3      116          SOYBEANS\n",
       "4      119  CASH GRAINS, NEC"
      ]
     },
     "execution_count": 37,
     "metadata": {},
     "output_type": "execute_result"
    }
   ],
   "source": [
    "benchmark.columns = ['SIC4_cd', 'SIC4_desciption']\n",
    "benchmark.head()"
   ]
  },
  {
   "cell_type": "markdown",
   "metadata": {},
   "source": [
    "### Compare descriptions for each four-digit SIC code in common"
   ]
  },
  {
   "cell_type": "code",
   "execution_count": 38,
   "metadata": {
    "collapsed": false
   },
   "outputs": [
    {
     "data": {
      "text/plain": [
       "1004"
      ]
     },
     "execution_count": 38,
     "metadata": {},
     "output_type": "execute_result"
    }
   ],
   "source": [
    "# Merge OSHA and benchmark data\n",
    "inner = osha.merge(benchmark, how='inner', on='SIC4_cd')\n",
    "len(inner)"
   ]
  },
  {
   "cell_type": "code",
   "execution_count": 40,
   "metadata": {
    "collapsed": false
   },
   "outputs": [
    {
     "data": {
      "text/plain": [
       "1004"
      ]
     },
     "execution_count": 40,
     "metadata": {},
     "output_type": "execute_result"
    }
   ],
   "source": [
    "osha_desc = list(inner.SIC4_desc.str.lower().str.strip())\n",
    "len(osha_desc)"
   ]
  },
  {
   "cell_type": "code",
   "execution_count": 41,
   "metadata": {
    "collapsed": false
   },
   "outputs": [
    {
     "data": {
      "text/plain": [
       "1004"
      ]
     },
     "execution_count": 41,
     "metadata": {},
     "output_type": "execute_result"
    }
   ],
   "source": [
    "benchmark_desc = list(inner.SIC4_desciption.str.lower().str.strip())\n",
    "len(benchmark_desc)"
   ]
  },
  {
   "cell_type": "code",
   "execution_count": 64,
   "metadata": {
    "collapsed": false
   },
   "outputs": [],
   "source": [
    "match = []\n",
    "for i in range(0, len(inner)):\n",
    "    \n",
    "    # Count direct matches\n",
    "    match_ind = benchmark_desc[i] == osha_desc[i]\n",
    "    if not(match_ind):\n",
    "        \n",
    "        # Where not a direct match count the number of indirect matches\n",
    "        tokens_taged = nltk.pos_tag(nltk.word_tokenize(benchmark_desc[i].replace(', nec', '')))\n",
    "        osha_words = [word[0] for word in nltk.pos_tag(nltk.word_tokenize(osha_desc[i]))]\n",
    "        \n",
    "        word_matches = [word[0] in osha_words for word in tokens_taged if word[1] != 'CC']\n",
    "        match_rate = sum(word_matches)/len(word_matches)\n",
    "        if match_rate > 0.3:\n",
    "            match_ind = True\n",
    "    match.append(match_ind)"
   ]
  },
  {
   "cell_type": "markdown",
   "metadata": {},
   "source": [
    "### Summary\n",
    "Nearly all of the shared four-digit SIC codes from the OSHA and SEC lists shared a similar description, on the basis of a direct match or an indirect (30% or more of words in common, excluding coordinating-conjunctions) match. Of mismatches, most can be attributed to punctuation, grammar or syntax (i.e., as opposed to reference to an entirely different industry)."
   ]
  },
  {
   "cell_type": "code",
   "execution_count": 65,
   "metadata": {
    "collapsed": false
   },
   "outputs": [
    {
     "name": "stdout",
     "output_type": "stream",
     "text": [
      "0.987051792829\n"
     ]
    }
   ],
   "source": [
    "# Identify match rate\n",
    "print sum(match)/len(inner)"
   ]
  },
  {
   "cell_type": "code",
   "execution_count": 66,
   "metadata": {
    "collapsed": false
   },
   "outputs": [
    {
     "data": {
      "text/html": [
       "<div>\n",
       "<table border=\"1\" class=\"dataframe\">\n",
       "  <thead>\n",
       "    <tr style=\"text-align: right;\">\n",
       "      <th></th>\n",
       "      <th>SIC4_cd</th>\n",
       "      <th>SIC4_desc</th>\n",
       "      <th>ind_cd</th>\n",
       "      <th>ind_desc</th>\n",
       "      <th>maj_cd</th>\n",
       "      <th>maj_desc</th>\n",
       "      <th>div_cd</th>\n",
       "      <th>div_desc</th>\n",
       "      <th>SIC4_desciption</th>\n",
       "    </tr>\n",
       "  </thead>\n",
       "  <tbody>\n",
       "    <tr>\n",
       "      <th>89</th>\n",
       "      <td>1521</td>\n",
       "      <td>General Contractors-Single-Family Houses</td>\n",
       "      <td>152</td>\n",
       "      <td>General Building Contractors-residential</td>\n",
       "      <td>15</td>\n",
       "      <td>Building Construction General Contractors And ...</td>\n",
       "      <td>C</td>\n",
       "      <td>Construction</td>\n",
       "      <td>SINGLE-FAMILY HOUSING CONSTRUCTION</td>\n",
       "    </tr>\n",
       "    <tr>\n",
       "      <th>90</th>\n",
       "      <td>1522</td>\n",
       "      <td>General Contractors-Residential Buildings, Oth...</td>\n",
       "      <td>152</td>\n",
       "      <td>General Building Contractors-residential</td>\n",
       "      <td>15</td>\n",
       "      <td>Building Construction General Contractors And ...</td>\n",
       "      <td>C</td>\n",
       "      <td>Construction</td>\n",
       "      <td>RESIDENTIAL CONSTRUCTION, NEC</td>\n",
       "    </tr>\n",
       "    <tr>\n",
       "      <th>93</th>\n",
       "      <td>1542</td>\n",
       "      <td>General Contractors-Nonresidential Buildings, ...</td>\n",
       "      <td>154</td>\n",
       "      <td>General Building Contractors-nonresidential</td>\n",
       "      <td>15</td>\n",
       "      <td>Building Construction General Contractors And ...</td>\n",
       "      <td>C</td>\n",
       "      <td>Construction</td>\n",
       "      <td>NONRESIDENTIAL CONSTRUCTION, NEC</td>\n",
       "    </tr>\n",
       "    <tr>\n",
       "      <th>179</th>\n",
       "      <td>2261</td>\n",
       "      <td>Finishers of Broadwoven Fabrics of Cotton</td>\n",
       "      <td>226</td>\n",
       "      <td>Dyeing And Finishing Textiles, Except Wool Fab...</td>\n",
       "      <td>22</td>\n",
       "      <td>Textile Mill Products</td>\n",
       "      <td>D</td>\n",
       "      <td>Manufacturing</td>\n",
       "      <td>FINISHING PLANTS, COTTON</td>\n",
       "    </tr>\n",
       "    <tr>\n",
       "      <th>180</th>\n",
       "      <td>2262</td>\n",
       "      <td>Finishers of Broadwoven Fabrics of Manmade Fib...</td>\n",
       "      <td>226</td>\n",
       "      <td>Dyeing And Finishing Textiles, Except Wool Fab...</td>\n",
       "      <td>22</td>\n",
       "      <td>Textile Mill Products</td>\n",
       "      <td>D</td>\n",
       "      <td>Manufacturing</td>\n",
       "      <td>FINISHING PLANTS, MANMADE</td>\n",
       "    </tr>\n",
       "    <tr>\n",
       "      <th>181</th>\n",
       "      <td>2269</td>\n",
       "      <td>Finishers of Textiles, Not elsewhere Classified</td>\n",
       "      <td>226</td>\n",
       "      <td>Dyeing And Finishing Textiles, Except Wool Fab...</td>\n",
       "      <td>22</td>\n",
       "      <td>Textile Mill Products</td>\n",
       "      <td>D</td>\n",
       "      <td>Manufacturing</td>\n",
       "      <td>FINISHING PLANTS, NEC</td>\n",
       "    </tr>\n",
       "    <tr>\n",
       "      <th>215</th>\n",
       "      <td>2392</td>\n",
       "      <td>House furnishing, Except Curtains and Draperies</td>\n",
       "      <td>239</td>\n",
       "      <td>Miscellaneous Fabricated Textile Products</td>\n",
       "      <td>23</td>\n",
       "      <td>Apparel And Other Finished Products Made From ...</td>\n",
       "      <td>D</td>\n",
       "      <td>Manufacturing</td>\n",
       "      <td>HOUSEHOLD FURNISHINGS, NEC</td>\n",
       "    </tr>\n",
       "    <tr>\n",
       "      <th>291</th>\n",
       "      <td>2833</td>\n",
       "      <td>Medicinal Chemicals and Botanical Products</td>\n",
       "      <td>283</td>\n",
       "      <td>Drugs</td>\n",
       "      <td>28</td>\n",
       "      <td>Chemicals And Allied Products</td>\n",
       "      <td>D</td>\n",
       "      <td>Manufacturing</td>\n",
       "      <td>MEDICINALS AND BOTANICALS</td>\n",
       "    </tr>\n",
       "    <tr>\n",
       "      <th>371</th>\n",
       "      <td>3315</td>\n",
       "      <td>Steel Wiredrawing and Steel Nails and Spikes</td>\n",
       "      <td>331</td>\n",
       "      <td>Steel Works, Blast Furnaces, And Rolling And F...</td>\n",
       "      <td>33</td>\n",
       "      <td>Primary Metal Industries</td>\n",
       "      <td>D</td>\n",
       "      <td>Manufacturing</td>\n",
       "      <td>STEEL WIRE AND RELATED PRODUCTS</td>\n",
       "    </tr>\n",
       "    <tr>\n",
       "      <th>372</th>\n",
       "      <td>3316</td>\n",
       "      <td>Cold-Rolled Steel Sheet, Strip, and Bars</td>\n",
       "      <td>331</td>\n",
       "      <td>Steel Works, Blast Furnaces, And Rolling And F...</td>\n",
       "      <td>33</td>\n",
       "      <td>Primary Metal Industries</td>\n",
       "      <td>D</td>\n",
       "      <td>Manufacturing</td>\n",
       "      <td>COLD FINISHING OF STEEL SHAPES</td>\n",
       "    </tr>\n",
       "    <tr>\n",
       "      <th>646</th>\n",
       "      <td>5023</td>\n",
       "      <td>Home furnishings</td>\n",
       "      <td>502</td>\n",
       "      <td>Furniture And Home Furnishings</td>\n",
       "      <td>50</td>\n",
       "      <td>Wholesale Trade-durable Goods</td>\n",
       "      <td>F</td>\n",
       "      <td>Wholesale Trade</td>\n",
       "      <td>HOMEFURNISHINGS</td>\n",
       "    </tr>\n",
       "    <tr>\n",
       "      <th>797</th>\n",
       "      <td>6289</td>\n",
       "      <td>Services Allied With the Exchange of Securitie...</td>\n",
       "      <td>628</td>\n",
       "      <td>Services Allied With The Exchange Of Securities</td>\n",
       "      <td>62</td>\n",
       "      <td>Security And Commodity Brokers, Dealers, Excha...</td>\n",
       "      <td>H</td>\n",
       "      <td>Finance, Insurance, And Real Estate</td>\n",
       "      <td>SECURITY AND COMMODITY SERVICE</td>\n",
       "    </tr>\n",
       "    <tr>\n",
       "      <th>809</th>\n",
       "      <td>6514</td>\n",
       "      <td>Operators of Dwellings Other Than Apartment Bu...</td>\n",
       "      <td>651</td>\n",
       "      <td>Real Estate Operators (except Developers) And ...</td>\n",
       "      <td>65</td>\n",
       "      <td>Real Estate</td>\n",
       "      <td>H</td>\n",
       "      <td>Finance, Insurance, And Real Estate</td>\n",
       "      <td>DWELLING OPERATORS, EXCEPT APARTMENTS</td>\n",
       "    </tr>\n",
       "  </tbody>\n",
       "</table>\n",
       "</div>"
      ],
      "text/plain": [
       "     SIC4_cd                                          SIC4_desc  ind_cd  \\\n",
       "89      1521           General Contractors-Single-Family Houses     152   \n",
       "90      1522  General Contractors-Residential Buildings, Oth...     152   \n",
       "93      1542  General Contractors-Nonresidential Buildings, ...     154   \n",
       "179     2261          Finishers of Broadwoven Fabrics of Cotton     226   \n",
       "180     2262  Finishers of Broadwoven Fabrics of Manmade Fib...     226   \n",
       "181     2269    Finishers of Textiles, Not elsewhere Classified     226   \n",
       "215     2392    House furnishing, Except Curtains and Draperies     239   \n",
       "291     2833         Medicinal Chemicals and Botanical Products     283   \n",
       "371     3315       Steel Wiredrawing and Steel Nails and Spikes     331   \n",
       "372     3316           Cold-Rolled Steel Sheet, Strip, and Bars     331   \n",
       "646     5023                                   Home furnishings     502   \n",
       "797     6289  Services Allied With the Exchange of Securitie...     628   \n",
       "809     6514  Operators of Dwellings Other Than Apartment Bu...     651   \n",
       "\n",
       "                                              ind_desc  maj_cd  \\\n",
       "89            General Building Contractors-residential      15   \n",
       "90            General Building Contractors-residential      15   \n",
       "93         General Building Contractors-nonresidential      15   \n",
       "179  Dyeing And Finishing Textiles, Except Wool Fab...      22   \n",
       "180  Dyeing And Finishing Textiles, Except Wool Fab...      22   \n",
       "181  Dyeing And Finishing Textiles, Except Wool Fab...      22   \n",
       "215          Miscellaneous Fabricated Textile Products      23   \n",
       "291                                              Drugs      28   \n",
       "371  Steel Works, Blast Furnaces, And Rolling And F...      33   \n",
       "372  Steel Works, Blast Furnaces, And Rolling And F...      33   \n",
       "646                     Furniture And Home Furnishings      50   \n",
       "797    Services Allied With The Exchange Of Securities      62   \n",
       "809  Real Estate Operators (except Developers) And ...      65   \n",
       "\n",
       "                                              maj_desc div_cd  \\\n",
       "89   Building Construction General Contractors And ...      C   \n",
       "90   Building Construction General Contractors And ...      C   \n",
       "93   Building Construction General Contractors And ...      C   \n",
       "179                              Textile Mill Products      D   \n",
       "180                              Textile Mill Products      D   \n",
       "181                              Textile Mill Products      D   \n",
       "215  Apparel And Other Finished Products Made From ...      D   \n",
       "291                      Chemicals And Allied Products      D   \n",
       "371                           Primary Metal Industries      D   \n",
       "372                           Primary Metal Industries      D   \n",
       "646                      Wholesale Trade-durable Goods      F   \n",
       "797  Security And Commodity Brokers, Dealers, Excha...      H   \n",
       "809                                        Real Estate      H   \n",
       "\n",
       "                                div_desc  \\\n",
       "89                          Construction   \n",
       "90                          Construction   \n",
       "93                          Construction   \n",
       "179                        Manufacturing   \n",
       "180                        Manufacturing   \n",
       "181                        Manufacturing   \n",
       "215                        Manufacturing   \n",
       "291                        Manufacturing   \n",
       "371                        Manufacturing   \n",
       "372                        Manufacturing   \n",
       "646                      Wholesale Trade   \n",
       "797  Finance, Insurance, And Real Estate   \n",
       "809  Finance, Insurance, And Real Estate   \n",
       "\n",
       "                           SIC4_desciption  \n",
       "89      SINGLE-FAMILY HOUSING CONSTRUCTION  \n",
       "90           RESIDENTIAL CONSTRUCTION, NEC  \n",
       "93        NONRESIDENTIAL CONSTRUCTION, NEC  \n",
       "179               FINISHING PLANTS, COTTON  \n",
       "180              FINISHING PLANTS, MANMADE  \n",
       "181                  FINISHING PLANTS, NEC  \n",
       "215             HOUSEHOLD FURNISHINGS, NEC  \n",
       "291              MEDICINALS AND BOTANICALS  \n",
       "371        STEEL WIRE AND RELATED PRODUCTS  \n",
       "372         COLD FINISHING OF STEEL SHAPES  \n",
       "646                        HOMEFURNISHINGS  \n",
       "797         SECURITY AND COMMODITY SERVICE  \n",
       "809  DWELLING OPERATORS, EXCEPT APARTMENTS  "
      ]
     },
     "execution_count": 66,
     "metadata": {},
     "output_type": "execute_result"
    }
   ],
   "source": [
    "# Identify specific mismatches\n",
    "inner[[not(m) for m in match]]"
   ]
  }
 ],
 "metadata": {
  "anaconda-cloud": {},
  "kernelspec": {
   "display_name": "Python [Root]",
   "language": "python",
   "name": "Python [Root]"
  },
  "language_info": {
   "codemirror_mode": {
    "name": "ipython",
    "version": 2
   },
   "file_extension": ".py",
   "mimetype": "text/x-python",
   "name": "python",
   "nbconvert_exporter": "python",
   "pygments_lexer": "ipython2",
   "version": "2.7.12"
  }
 },
 "nbformat": 4,
 "nbformat_minor": 0
}
