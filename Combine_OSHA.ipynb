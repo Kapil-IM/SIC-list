{
 "cells": [
  {
   "cell_type": "markdown",
   "metadata": {},
   "source": [
    "## Run script"
   ]
  },
  {
   "cell_type": "markdown",
   "metadata": {},
   "source": [
    "### Import data"
   ]
  },
  {
   "cell_type": "code",
   "execution_count": 1,
   "metadata": {
    "collapsed": false
   },
   "outputs": [],
   "source": [
    "import sys\n",
    "import os\n",
    "sys.path.insert(0, os.path.abspath('scrape_sic'))\n",
    "import scrape_sic_osha as scrape\n",
    "import pickle\n",
    "sys.path.insert(0, os.path.abspath('.'))"
   ]
  },
  {
   "cell_type": "code",
   "execution_count": 2,
   "metadata": {
    "collapsed": false
   },
   "outputs": [
    {
     "data": {
      "text/plain": [
       "(93, 83)"
      ]
     },
     "execution_count": 2,
     "metadata": {},
     "output_type": "execute_result"
    }
   ],
   "source": [
    "# Save all\n",
    "divisions = scrape.save_divisions()\n",
    "file_name = scrape.save_all_majors()\n",
    "\n",
    "len(divisions), len(file_name)"
   ]
  },
  {
   "cell_type": "code",
   "execution_count": 3,
   "metadata": {
    "collapsed": false
   },
   "outputs": [
    {
     "data": {
      "text/plain": [
       "(93, 83)"
      ]
     },
     "execution_count": 3,
     "metadata": {},
     "output_type": "execute_result"
    }
   ],
   "source": [
    "file_name = scrape.save_all_majors()\n",
    "\n",
    "len(divisions), len(file_name)"
   ]
  },
  {
   "cell_type": "markdown",
   "metadata": {},
   "source": [
    "### Append data"
   ]
  },
  {
   "cell_type": "code",
   "execution_count": 4,
   "metadata": {
    "collapsed": false
   },
   "outputs": [
    {
     "data": {
      "text/plain": [
       "(93, 1421)"
      ]
     },
     "execution_count": 4,
     "metadata": {},
     "output_type": "execute_result"
    }
   ],
   "source": [
    "# Load data\n",
    "divisions = pickle.load(open('divisions_raw.pkl', 'rb'))\n",
    "\n",
    "majors_all = []\n",
    "for f in file_name:\n",
    "    majors_all.extend(pickle.load(open(f, 'rb')))\n",
    "\n",
    "len(divisions), len(majors_all)"
   ]
  },
  {
   "cell_type": "code",
   "execution_count": null,
   "metadata": {
    "collapsed": true
   },
   "outputs": [],
   "source": []
  },
  {
   "cell_type": "code",
   "execution_count": 5,
   "metadata": {
    "collapsed": false
   },
   "outputs": [
    {
     "data": {
      "text/plain": [
       "1514"
      ]
     },
     "execution_count": 5,
     "metadata": {},
     "output_type": "execute_result"
    }
   ],
   "source": [
    "combined = list(majors_all)\n",
    "combined.extend(divisions)\n",
    "len(combined)"
   ]
  },
  {
   "cell_type": "markdown",
   "metadata": {},
   "source": [
    "### Long to wide format"
   ]
  },
  {
   "cell_type": "code",
   "execution_count": 6,
   "metadata": {
    "collapsed": false
   },
   "outputs": [
    {
     "data": {
      "text/plain": [
       "1514"
      ]
     },
     "execution_count": 6,
     "metadata": {},
     "output_type": "execute_result"
    }
   ],
   "source": [
    "# Convert to dictionary\n",
    "d_combined = {c.full_desc: c for c in combined}\n",
    "len(d_combined)"
   ]
  },
  {
   "cell_type": "code",
   "execution_count": 7,
   "metadata": {
    "collapsed": false
   },
   "outputs": [
    {
     "data": {
      "text/plain": [
       "ind_group(full_desc=u'Industry Group 011: Cash Grains', parent_desc='Major Group 01: Agricultural Production Crops', link=None)"
      ]
     },
     "execution_count": 7,
     "metadata": {},
     "output_type": "execute_result"
    }
   ],
   "source": [
    "d_combined[combined[1].parent_desc]"
   ]
  },
  {
   "cell_type": "code",
   "execution_count": 8,
   "metadata": {
    "collapsed": false
   },
   "outputs": [
    {
     "data": {
      "text/plain": [
       "ind_group(full_desc='Major Group 10: Metal Mining', parent_desc='Division B: Mining', link=u'sic_manual.display?id=6&tab=group')"
      ]
     },
     "execution_count": 8,
     "metadata": {},
     "output_type": "execute_result"
    }
   ],
   "source": [
    "d_combined['Major Group 10: Metal Mining']"
   ]
  },
  {
   "cell_type": "markdown",
   "metadata": {},
   "source": [
    "#### SIC list"
   ]
  },
  {
   "cell_type": "code",
   "execution_count": 9,
   "metadata": {
    "collapsed": false
   },
   "outputs": [
    {
     "data": {
      "text/plain": [
       "['0112', 'SIC4', 'Rice']"
      ]
     },
     "execution_count": 9,
     "metadata": {},
     "output_type": "execute_result"
    }
   ],
   "source": [
    "scrape.clean_desc(combined[2].full_desc)"
   ]
  },
  {
   "cell_type": "code",
   "execution_count": 10,
   "metadata": {
    "collapsed": false
   },
   "outputs": [
    {
     "data": {
      "text/plain": [
       "1005"
      ]
     },
     "execution_count": 10,
     "metadata": {},
     "output_type": "execute_result"
    }
   ],
   "source": [
    "sic = [c for c in combined if scrape.clean_desc(c.full_desc)[1] == 'SIC4']\n",
    "len(sic)"
   ]
  },
  {
   "cell_type": "code",
   "execution_count": 11,
   "metadata": {
    "collapsed": false
   },
   "outputs": [
    {
     "data": {
      "text/plain": [
       "(1005, 8)"
      ]
     },
     "execution_count": 11,
     "metadata": {},
     "output_type": "execute_result"
    }
   ],
   "source": [
    "wide = []\n",
    "for sic in combined:\n",
    "    sic_fdesc = scrape.clean_desc(sic.full_desc)\n",
    "    if sic_fdesc[1] == 'SIC4':\n",
    "        \n",
    "        # Clean SIC4\n",
    "        SIC4_cd = sic_fdesc[0]\n",
    "        SIC4_desc = sic_fdesc[2]\n",
    "        \n",
    "        # Clean industry\n",
    "        ind = d_combined[sic.parent_desc.strip()]\n",
    "        ind_fdesc = scrape.clean_desc(ind.full_desc)\n",
    "        ind_cd = ind_fdesc[0]\n",
    "        ind_desc = ind_fdesc[2]\n",
    "        \n",
    "        # Clean major\n",
    "        maj = d_combined[ind.parent_desc.strip()]\n",
    "        maj_fdesc = scrape.clean_desc(maj.full_desc)\n",
    "        maj_cd = maj_fdesc[0]\n",
    "        maj_desc = maj_fdesc[2]\n",
    "        \n",
    "        # Clean division\n",
    "        div = d_combined[maj.parent_desc.strip()]\n",
    "        div_fdesc = scrape.clean_desc(div.full_desc)\n",
    "        div_cd = div_fdesc[0]\n",
    "        div_desc = div_fdesc[2]\n",
    "        \n",
    "        wide.append((SIC4_cd, SIC4_desc, ind_cd, ind_desc, maj_cd, maj_desc, div_cd, div_desc))\n",
    "\n",
    "len(wide), len(wide[1])"
   ]
  },
  {
   "cell_type": "markdown",
   "metadata": {},
   "source": [
    "### Save and cleanup"
   ]
  },
  {
   "cell_type": "code",
   "execution_count": 12,
   "metadata": {
    "collapsed": true
   },
   "outputs": [],
   "source": [
    "import csv"
   ]
  },
  {
   "cell_type": "code",
   "execution_count": 13,
   "metadata": {
    "collapsed": true
   },
   "outputs": [],
   "source": [
    "# Save data\n",
    "with open('osha_combined.pkl', 'w') as f:\n",
    "    pickle.dump(wide, f)\n",
    "\n",
    "with open('osha_combined.csv', 'w') as f:\n",
    "    writer = csv.writer(f)\n",
    "    writer.writerow(('SIC4_cd', 'SIC4_desc', 'ind_cd', 'ind_desc', 'maj_cd', 'maj_desc', 'div_cd', 'div_desc'))\n",
    "    writer.writerows(wide)"
   ]
  },
  {
   "cell_type": "code",
   "execution_count": 14,
   "metadata": {
    "collapsed": false
   },
   "outputs": [],
   "source": [
    "# Clean up (OPTIONAL)\n",
    "assert all([os.remove(s) is None for s in file_name])\n",
    "assert os.remove('divisions_raw.pkl') is None"
   ]
  }
 ],
 "metadata": {
  "anaconda-cloud": {},
  "kernelspec": {
   "display_name": "Python [Root]",
   "language": "python",
   "name": "Python [Root]"
  },
  "language_info": {
   "codemirror_mode": {
    "name": "ipython",
    "version": 2
   },
   "file_extension": ".py",
   "mimetype": "text/x-python",
   "name": "python",
   "nbconvert_exporter": "python",
   "pygments_lexer": "ipython2",
   "version": "2.7.12"
  }
 },
 "nbformat": 4,
 "nbformat_minor": 0
}
